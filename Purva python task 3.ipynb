{
 "cells": [
  {
   "cell_type": "markdown",
   "id": "710cde97-ae9b-4088-96d5-c5de650cad96",
   "metadata": {},
   "source": [
    "# 1. List Operations"
   ]
  },
  {
   "cell_type": "markdown",
   "id": "83187e23-fb96-4744-ba07-a7a3f1f63894",
   "metadata": {},
   "source": [
    "# Append ,add items to the end of lists"
   ]
  },
  {
   "cell_type": "code",
   "execution_count": 4,
   "id": "ef421d8a-e721-469a-985c-50673bf3dea8",
   "metadata": {},
   "outputs": [],
   "source": [
    "a1 = [6,7,8]"
   ]
  },
  {
   "cell_type": "code",
   "execution_count": 6,
   "id": "c8724b68-834d-4f85-8891-646bdc122323",
   "metadata": {},
   "outputs": [],
   "source": [
    "a1.append(9)"
   ]
  },
  {
   "cell_type": "code",
   "execution_count": 8,
   "id": "5d7cdf43-50ba-4474-8f1c-3cca6bdff815",
   "metadata": {},
   "outputs": [
    {
     "name": "stdout",
     "output_type": "stream",
     "text": [
      "[6, 7, 8, 9]\n"
     ]
    }
   ],
   "source": [
    "print(a1)"
   ]
  },
  {
   "cell_type": "markdown",
   "id": "87c2e4c9-bcf0-4251-bf45-20d86e392c9c",
   "metadata": {},
   "source": [
    "# Extend , expand the list by appending elements from an iterable"
   ]
  },
  {
   "cell_type": "code",
   "execution_count": 35,
   "id": "9f31f035-700c-491a-8e92-f7dbf21275f5",
   "metadata": {},
   "outputs": [],
   "source": [
    "my_list=['flower','trees','sun']"
   ]
  },
  {
   "cell_type": "code",
   "execution_count": 37,
   "id": "25c08d30-8eb5-4c60-bd9d-17eaa033fc81",
   "metadata": {},
   "outputs": [],
   "source": [
    "my_list.extend(['water','soil'])"
   ]
  },
  {
   "cell_type": "code",
   "execution_count": 39,
   "id": "2bfa1fd3-349e-42e3-bd3c-9bedde538e61",
   "metadata": {},
   "outputs": [
    {
     "name": "stdout",
     "output_type": "stream",
     "text": [
      "['flower', 'trees', 'sun', 'water', 'soil']\n"
     ]
    }
   ],
   "source": [
    "print(my_list)"
   ]
  },
  {
   "cell_type": "code",
   "execution_count": 50,
   "id": "c99cd776-2ff6-4f7e-97bd-4eb3e8f6e4dc",
   "metadata": {},
   "outputs": [],
   "source": [
    " dogs_name=['giggi','gabbar']"
   ]
  },
  {
   "cell_type": "code",
   "execution_count": 52,
   "id": "b3771f0e-498f-4262-aa39-c1eafbb590c6",
   "metadata": {},
   "outputs": [],
   "source": [
    "cats_name =['mau','chau']"
   ]
  },
  {
   "cell_type": "code",
   "execution_count": 54,
   "id": "80a2e27a-f66b-4b8f-a8aa-c7f4b36e057f",
   "metadata": {},
   "outputs": [],
   "source": [
    "dogs_name.extend([cats_name])"
   ]
  },
  {
   "cell_type": "code",
   "execution_count": 56,
   "id": "71aed13d-c20b-4bc4-9f31-271ac2fb4b8a",
   "metadata": {},
   "outputs": [
    {
     "name": "stdout",
     "output_type": "stream",
     "text": [
      "['giggi', 'gabbar', ['mau', 'chau']]\n"
     ]
    }
   ],
   "source": [
    "print(dogs_name)"
   ]
  },
  {
   "cell_type": "markdown",
   "id": "0cae9555-adad-4c78-af43-2c9e3b9d925d",
   "metadata": {},
   "source": [
    "# remove ,remove the first occurance of value"
   ]
  },
  {
   "cell_type": "code",
   "execution_count": 41,
   "id": "4e3203bb-76e0-4a06-83db-0768c27e9597",
   "metadata": {},
   "outputs": [],
   "source": [
    "b1= [4,5,6,7]"
   ]
  },
  {
   "cell_type": "code",
   "execution_count": 43,
   "id": "0013e4b9-db53-4394-9938-7da3b2a08a10",
   "metadata": {},
   "outputs": [],
   "source": [
    "b1.remove(6)"
   ]
  },
  {
   "cell_type": "code",
   "execution_count": 45,
   "id": "0e7e36df-b5bf-4b09-a143-a4661b358619",
   "metadata": {},
   "outputs": [
    {
     "name": "stdout",
     "output_type": "stream",
     "text": [
      "[4, 5, 7]\n"
     ]
    }
   ],
   "source": [
    "print(b1)"
   ]
  },
  {
   "cell_type": "markdown",
   "id": "6f3bcf9e-7ab2-4ef1-9d2a-78e3e041550f",
   "metadata": {},
   "source": [
    "# pop Removes and returns the item at the given position."
   ]
  },
  {
   "cell_type": "code",
   "execution_count": 60,
   "id": "68e87114-77cd-40c4-9cb1-6bcc27e7b545",
   "metadata": {},
   "outputs": [],
   "source": [
    "list =[8,7,6,5]"
   ]
  },
  {
   "cell_type": "code",
   "execution_count": 62,
   "id": "5c9ff661-6c3e-4b6b-85ca-63e9f430047e",
   "metadata": {},
   "outputs": [
    {
     "data": {
      "text/plain": [
       "5"
      ]
     },
     "execution_count": 62,
     "metadata": {},
     "output_type": "execute_result"
    }
   ],
   "source": [
    "list.pop()"
   ]
  },
  {
   "cell_type": "code",
   "execution_count": 64,
   "id": "8aa73e48-e7e5-40b7-bd35-661b5a29e179",
   "metadata": {},
   "outputs": [
    {
     "name": "stdout",
     "output_type": "stream",
     "text": [
      "[8, 7, 6]\n"
     ]
    }
   ],
   "source": [
    "print(list)"
   ]
  },
  {
   "cell_type": "markdown",
   "id": "963b57f3-eb33-489a-952c-dc529ead23a8",
   "metadata": {},
   "source": [
    "# count"
   ]
  },
  {
   "cell_type": "code",
   "execution_count": 81,
   "id": "de574138-9775-4754-b35a-1df2f5914b63",
   "metadata": {},
   "outputs": [],
   "source": [
    "my_list = [1, 2, 2, 3]"
   ]
  },
  {
   "cell_type": "code",
   "execution_count": 83,
   "id": "a1df30e9-016a-49cb-884f-9c1a9d08e991",
   "metadata": {},
   "outputs": [
    {
     "data": {
      "text/plain": [
       "2"
      ]
     },
     "execution_count": 83,
     "metadata": {},
     "output_type": "execute_result"
    }
   ],
   "source": [
    "my_list.count(2)"
   ]
  },
  {
   "cell_type": "markdown",
   "id": "0e94c325-7a06-4990-b1f0-f94d515b7098",
   "metadata": {},
   "source": [
    "# reverse"
   ]
  },
  {
   "cell_type": "code",
   "execution_count": 86,
   "id": "17bb40ab-eaa0-401f-83e0-c9f972d7bf54",
   "metadata": {},
   "outputs": [],
   "source": [
    "l2= [0,9,8,7]"
   ]
  },
  {
   "cell_type": "code",
   "execution_count": 88,
   "id": "454e6188-679e-455d-858c-54f90a42646b",
   "metadata": {},
   "outputs": [],
   "source": [
    "l2.reverse()"
   ]
  },
  {
   "cell_type": "code",
   "execution_count": 90,
   "id": "cc565105-98d0-4b38-a1cb-b6dbc6da7349",
   "metadata": {},
   "outputs": [
    {
     "name": "stdout",
     "output_type": "stream",
     "text": [
      "[7, 8, 9, 0]\n"
     ]
    }
   ],
   "source": [
    "print(l2)"
   ]
  },
  {
   "cell_type": "markdown",
   "id": "75cda5cd-53de-4568-9846-b5b4c77bbad7",
   "metadata": {},
   "source": [
    "# copy"
   ]
  },
  {
   "cell_type": "code",
   "execution_count": 95,
   "id": "f6dbc0dd-619d-4ee5-8b71-ecf00ae31cc0",
   "metadata": {},
   "outputs": [],
   "source": [
    "d1=[0,0,0]\n"
   ]
  },
  {
   "cell_type": "code",
   "execution_count": 97,
   "id": "dfbba9b6-bff0-477c-b296-f3aa974ca3ce",
   "metadata": {},
   "outputs": [
    {
     "data": {
      "text/plain": [
       "[0, 0, 0]"
      ]
     },
     "execution_count": 97,
     "metadata": {},
     "output_type": "execute_result"
    }
   ],
   "source": [
    "d1.copy()"
   ]
  },
  {
   "cell_type": "markdown",
   "id": "b4254e4b-6b41-40fc-8e05-cc0d60533b04",
   "metadata": {},
   "source": [
    "# 2.  boolean"
   ]
  },
  {
   "cell_type": "code",
   "execution_count": 103,
   "id": "f2ab4d1c-6159-4670-a4f3-864721a1f748",
   "metadata": {},
   "outputs": [
    {
     "data": {
      "text/plain": [
       "True"
      ]
     },
     "execution_count": 103,
     "metadata": {},
     "output_type": "execute_result"
    }
   ],
   "source": [
    "bool(0)\n",
    "bool(1)"
   ]
  },
  {
   "cell_type": "code",
   "execution_count": 105,
   "id": "2873b32b-e446-4888-bee7-ea7362336cad",
   "metadata": {},
   "outputs": [
    {
     "data": {
      "text/plain": [
       "True"
      ]
     },
     "execution_count": 105,
     "metadata": {},
     "output_type": "execute_result"
    }
   ],
   "source": [
    "bool(1) or bool(0)"
   ]
  },
  {
   "cell_type": "code",
   "execution_count": 107,
   "id": "259f5d09-f76a-4420-90ce-0b325f43e6a5",
   "metadata": {},
   "outputs": [
    {
     "data": {
      "text/plain": [
       "False"
      ]
     },
     "execution_count": 107,
     "metadata": {},
     "output_type": "execute_result"
    }
   ],
   "source": [
    "bool(0) and bool(0)"
   ]
  },
  {
   "cell_type": "markdown",
   "id": "8d93aab5-a04c-4385-a575-e378b40660ed",
   "metadata": {},
   "source": [
    "# Python List clear() method removes all items from the List making it an empty/null list."
   ]
  },
  {
   "cell_type": "code",
   "execution_count": 110,
   "id": "871486cc-b734-4954-adc5-eae06fe16ef6",
   "metadata": {},
   "outputs": [],
   "source": [
    "h1 = [1,2,3]"
   ]
  },
  {
   "cell_type": "code",
   "execution_count": 112,
   "id": "78873799-588e-4489-b076-3cc4d18db6ca",
   "metadata": {},
   "outputs": [],
   "source": [
    "h1.clear()"
   ]
  },
  {
   "cell_type": "code",
   "execution_count": 114,
   "id": "9f4ca044-1c7a-4452-a42b-1954aa040ea1",
   "metadata": {},
   "outputs": [
    {
     "name": "stdout",
     "output_type": "stream",
     "text": [
      "[]\n"
     ]
    }
   ],
   "source": [
    "print(h1)"
   ]
  },
  {
   "cell_type": "markdown",
   "id": "37d2cecb-2756-460d-bbd1-aece285ed570",
   "metadata": {},
   "source": [
    "# sort"
   ]
  },
  {
   "cell_type": "code",
   "execution_count": 121,
   "id": "efc0dd7c-2408-4eec-b60c-b0ae289ebbc2",
   "metadata": {},
   "outputs": [],
   "source": [
    "movies =['jawan' , 'yjhd','sultan']"
   ]
  },
  {
   "cell_type": "code",
   "execution_count": 123,
   "id": "a00ee559-8a06-4de0-985c-83c379ffd0f1",
   "metadata": {},
   "outputs": [],
   "source": [
    "movies.sort()"
   ]
  },
  {
   "cell_type": "code",
   "execution_count": 125,
   "id": "140db6f0-9e18-4687-a440-7a3d152a8b16",
   "metadata": {},
   "outputs": [
    {
     "name": "stdout",
     "output_type": "stream",
     "text": [
      "['jawan', 'sultan', 'yjhd']\n"
     ]
    }
   ],
   "source": [
    "print(movies)"
   ]
  },
  {
   "cell_type": "code",
   "execution_count": 127,
   "id": "683ca056-7d4e-4b76-a4cb-f44afc89675b",
   "metadata": {},
   "outputs": [],
   "source": [
    "numbers =[ 6,3,9,4,1]"
   ]
  },
  {
   "cell_type": "code",
   "execution_count": 129,
   "id": "ff3000e9-a22b-4f77-a083-99605db1cd3d",
   "metadata": {},
   "outputs": [],
   "source": [
    "numbers.sort()"
   ]
  },
  {
   "cell_type": "code",
   "execution_count": 131,
   "id": "898ac6a0-219a-4c96-8282-e5134befbcd4",
   "metadata": {},
   "outputs": [
    {
     "name": "stdout",
     "output_type": "stream",
     "text": [
      "[1, 3, 4, 6, 9]\n"
     ]
    }
   ],
   "source": [
    "print(numbers)"
   ]
  },
  {
   "cell_type": "markdown",
   "id": "7db768a2-0bb9-497c-9b1c-5773cbf52c85",
   "metadata": {},
   "source": [
    "# length"
   ]
  },
  {
   "cell_type": "code",
   "execution_count": 163,
   "id": "10028d2c-d2e1-4f37-b27d-f2ef41302588",
   "metadata": {},
   "outputs": [
    {
     "data": {
      "text/plain": [
       "3"
      ]
     },
     "execution_count": 163,
     "metadata": {},
     "output_type": "execute_result"
    }
   ],
   "source": [
    "(5).bit_length()"
   ]
  },
  {
   "cell_type": "code",
   "execution_count": 167,
   "id": "197e5736-bdc8-411f-8eb3-bc2220059758",
   "metadata": {},
   "outputs": [
    {
     "data": {
      "text/plain": [
       "3"
      ]
     },
     "execution_count": 167,
     "metadata": {},
     "output_type": "execute_result"
    }
   ],
   "source": [
    "(7).bit_length()"
   ]
  },
  {
   "cell_type": "markdown",
   "id": "fc01d2bb-eb33-469b-96e9-05f5e11d0129",
   "metadata": {},
   "source": [
    "# clear"
   ]
  },
  {
   "cell_type": "code",
   "execution_count": 3,
   "id": "21125e2e-f468-4db1-8fd4-78693471cd9b",
   "metadata": {},
   "outputs": [],
   "source": [
    "a1 = [1,2,3]"
   ]
  },
  {
   "cell_type": "code",
   "execution_count": 5,
   "id": "315153b8-7337-4e79-b837-873a2f4042df",
   "metadata": {},
   "outputs": [],
   "source": [
    "a1.clear()"
   ]
  },
  {
   "cell_type": "code",
   "execution_count": 7,
   "id": "b12895f3-482b-4b5a-81ed-a61e4f517055",
   "metadata": {},
   "outputs": [
    {
     "data": {
      "text/plain": [
       "[]"
      ]
     },
     "execution_count": 7,
     "metadata": {},
     "output_type": "execute_result"
    }
   ],
   "source": [
    "a1"
   ]
  },
  {
   "cell_type": "markdown",
   "id": "36b121f7-a375-4a89-a325-862ea0d4d0a5",
   "metadata": {},
   "source": [
    "# examples  of diff data types "
   ]
  },
  {
   "cell_type": "markdown",
   "id": "52edb043-9026-4334-9f39-b87ab64d50d9",
   "metadata": {},
   "source": [
    "# int"
   ]
  },
  {
   "cell_type": "code",
   "execution_count": 22,
   "id": "36772642-9e33-441a-98f6-aa4a796e0a8a",
   "metadata": {},
   "outputs": [
    {
     "data": {
      "text/plain": [
       "25"
      ]
     },
     "execution_count": 22,
     "metadata": {},
     "output_type": "execute_result"
    }
   ],
   "source": [
    "int('25')  # conversion from string to integer"
   ]
  },
  {
   "cell_type": "code",
   "execution_count": 24,
   "id": "af5a7708-edec-437e-8d5a-8352d9824d03",
   "metadata": {},
   "outputs": [
    {
     "data": {
      "text/plain": [
       "3"
      ]
     },
     "execution_count": 24,
     "metadata": {},
     "output_type": "execute_result"
    }
   ],
   "source": [
    "int(3.14) # conversion from float to int"
   ]
  },
  {
   "cell_type": "code",
   "execution_count": 34,
   "id": "ab0169a8-1159-4985-8981-3059b17c4ebb",
   "metadata": {},
   "outputs": [
    {
     "data": {
      "text/plain": [
       "1"
      ]
     },
     "execution_count": 34,
     "metadata": {},
     "output_type": "execute_result"
    }
   ],
   "source": [
    "int(True)  # conversion from boolean to int"
   ]
  },
  {
   "cell_type": "code",
   "execution_count": 32,
   "id": "de84fc7a-3a4f-49f9-b617-15e6f65c8f91",
   "metadata": {},
   "outputs": [
    {
     "data": {
      "text/plain": [
       "0"
      ]
     },
     "execution_count": 32,
     "metadata": {},
     "output_type": "execute_result"
    }
   ],
   "source": [
    "int(False)"
   ]
  },
  {
   "cell_type": "code",
   "execution_count": 36,
   "id": "26d064e3-aed8-404a-b133-dd352dd0bda4",
   "metadata": {},
   "outputs": [
    {
     "data": {
      "text/plain": [
       "123456"
      ]
     },
     "execution_count": 36,
     "metadata": {},
     "output_type": "execute_result"
    }
   ],
   "source": [
    "123_456  #underscore as separator"
   ]
  },
  {
   "cell_type": "code",
   "execution_count": 42,
   "id": "891c69a6-2660-4bde-ae92-5fc415aab7fa",
   "metadata": {},
   "outputs": [
    {
     "data": {
      "text/plain": [
       "-2"
      ]
     },
     "execution_count": 42,
     "metadata": {},
     "output_type": "execute_result"
    }
   ],
   "source": [
    "-2\n"
   ]
  },
  {
   "cell_type": "markdown",
   "id": "affe2654-6472-4613-99a5-0ba5924f103e",
   "metadata": {},
   "source": [
    "# float "
   ]
  },
  {
   "cell_type": "code",
   "execution_count": 51,
   "id": "a42b7758-4e9b-4c78-897b-ffd525603690",
   "metadata": {},
   "outputs": [
    {
     "data": {
      "text/plain": [
       "14.0"
      ]
     },
     "execution_count": 51,
     "metadata": {},
     "output_type": "execute_result"
    }
   ],
   "source": [
    "float('14')  1#conversion from string to float"
   ]
  },
  {
   "cell_type": "code",
   "execution_count": 47,
   "id": "ea600b45-43d7-4e5f-939b-964a39fc6cff",
   "metadata": {},
   "outputs": [
    {
     "data": {
      "text/plain": [
       "1.0"
      ]
     },
     "execution_count": 47,
     "metadata": {},
     "output_type": "execute_result"
    }
   ],
   "source": [
    "float(True)  2#conversion from boolean to float"
   ]
  },
  {
   "cell_type": "code",
   "execution_count": 49,
   "id": "22bd169d-c045-46c6-b29a-597a900f1554",
   "metadata": {},
   "outputs": [
    {
     "data": {
      "text/plain": [
       "0.0"
      ]
     },
     "execution_count": 49,
     "metadata": {},
     "output_type": "execute_result"
    }
   ],
   "source": [
    "float(False)   #3"
   ]
  },
  {
   "cell_type": "code",
   "execution_count": 53,
   "id": "41fbeeaf-2e89-4ae8-8777-b1d388f83ef7",
   "metadata": {},
   "outputs": [
    {
     "data": {
      "text/plain": [
       "222.0"
      ]
     },
     "execution_count": 53,
     "metadata": {},
     "output_type": "execute_result"
    }
   ],
   "source": [
    "float(222)  #4 conversion from int "
   ]
  },
  {
   "cell_type": "code",
   "execution_count": 55,
   "id": "5ee1b1b7-e705-4475-876c-38861a92823f",
   "metadata": {},
   "outputs": [
    {
     "data": {
      "text/plain": [
       "12300000000.0"
      ]
     },
     "execution_count": 55,
     "metadata": {},
     "output_type": "execute_result"
    }
   ],
   "source": [
    "1.23e+10  # 5 Large number in scientific notation"
   ]
  },
  {
   "cell_type": "code",
   "execution_count": 61,
   "id": "440aaef3-3b3f-40cb-93ea-92708a5204c2",
   "metadata": {},
   "outputs": [
    {
     "data": {
      "text/plain": [
       "17.0"
      ]
     },
     "execution_count": 61,
     "metadata": {},
     "output_type": "execute_result"
    }
   ],
   "source": [
    "float(5*2+7)     #6"
   ]
  },
  {
   "cell_type": "code",
   "execution_count": 63,
   "id": "5adf8e9a-29f9-4004-846c-aa77f0c57339",
   "metadata": {},
   "outputs": [
    {
     "data": {
      "text/plain": [
       "7.0"
      ]
     },
     "execution_count": 63,
     "metadata": {},
     "output_type": "execute_result"
    }
   ],
   "source": [
    "float(14/2)    #7"
   ]
  },
  {
   "cell_type": "code",
   "execution_count": 65,
   "id": "6811cfe1-c2c6-4925-9654-706a9e10dd33",
   "metadata": {},
   "outputs": [
    {
     "data": {
      "text/plain": [
       "0.003333333333"
      ]
     },
     "execution_count": 65,
     "metadata": {},
     "output_type": "execute_result"
    }
   ],
   "source": [
    "0.003333333333"
   ]
  },
  {
   "cell_type": "markdown",
   "id": "03e9cd39-665d-4a16-a5bd-604a5ca55cc7",
   "metadata": {},
   "source": [
    "# string"
   ]
  },
  {
   "cell_type": "code",
   "execution_count": 68,
   "id": "45842d1d-cdc5-4b54-a2b3-5d6ac2f1036a",
   "metadata": {},
   "outputs": [
    {
     "data": {
      "text/plain": [
       "'hello'"
      ]
     },
     "execution_count": 68,
     "metadata": {},
     "output_type": "execute_result"
    }
   ],
   "source": [
    "\"hello\""
   ]
  },
  {
   "cell_type": "code",
   "execution_count": 70,
   "id": "00306dfe-f943-4309-923b-85bf8045f1df",
   "metadata": {},
   "outputs": [
    {
     "data": {
      "text/plain": [
       "'world'"
      ]
     },
     "execution_count": 70,
     "metadata": {},
     "output_type": "execute_result"
    }
   ],
   "source": [
    "'world'"
   ]
  },
  {
   "cell_type": "code",
   "execution_count": 72,
   "id": "c1d491e5-c0ba-448b-bc00-0e948849044d",
   "metadata": {},
   "outputs": [
    {
     "data": {
      "text/plain": [
       "'42'"
      ]
     },
     "execution_count": 72,
     "metadata": {},
     "output_type": "execute_result"
    }
   ],
   "source": [
    "str(42)"
   ]
  },
  {
   "cell_type": "code",
   "execution_count": 74,
   "id": "dfb1249d-cb15-4805-bf72-24abe1eaa3a9",
   "metadata": {},
   "outputs": [
    {
     "data": {
      "text/plain": [
       "'6'"
      ]
     },
     "execution_count": 74,
     "metadata": {},
     "output_type": "execute_result"
    }
   ],
   "source": [
    "str(2+4)"
   ]
  },
  {
   "cell_type": "code",
   "execution_count": 76,
   "id": "8cc90663-2ba4-4410-8790-660bf31621e8",
   "metadata": {},
   "outputs": [
    {
     "data": {
      "text/plain": [
       "'32.1'"
      ]
     },
     "execution_count": 76,
     "metadata": {},
     "output_type": "execute_result"
    }
   ],
   "source": [
    "str(30.1+2)\n"
   ]
  },
  {
   "cell_type": "code",
   "execution_count": 78,
   "id": "3264324b-308d-481d-a1b6-09b4b9dc5d0b",
   "metadata": {},
   "outputs": [
    {
     "data": {
      "text/plain": [
       "'False'"
      ]
     },
     "execution_count": 78,
     "metadata": {},
     "output_type": "execute_result"
    }
   ],
   "source": [
    "str(False)"
   ]
  },
  {
   "cell_type": "code",
   "execution_count": 80,
   "id": "a5c0336d-4a25-4e03-8f2d-17180e6dcd4a",
   "metadata": {},
   "outputs": [
    {
     "data": {
      "text/plain": [
       "'True'"
      ]
     },
     "execution_count": 80,
     "metadata": {},
     "output_type": "execute_result"
    }
   ],
   "source": [
    "str(True)"
   ]
  },
  {
   "cell_type": "code",
   "execution_count": 84,
   "id": "9b775788-8840-403b-bd5c-e4f9da240efe",
   "metadata": {},
   "outputs": [
    {
     "data": {
      "text/plain": [
       "'Value: 3.14'"
      ]
     },
     "execution_count": 84,
     "metadata": {},
     "output_type": "execute_result"
    }
   ],
   "source": [
    "f\"Value: {3.14}\"   "
   ]
  },
  {
   "cell_type": "code",
   "execution_count": 86,
   "id": "c14684e3-89f0-4615-a395-a7baa6cd371a",
   "metadata": {},
   "outputs": [
    {
     "data": {
      "text/plain": [
       "'Hello! world'"
      ]
     },
     "execution_count": 86,
     "metadata": {},
     "output_type": "execute_result"
    }
   ],
   "source": [
    "\"Hello! world\"  "
   ]
  },
  {
   "cell_type": "code",
   "execution_count": 88,
   "id": "d588ba90-339d-4e2f-af7d-3c9a6e30f6b7",
   "metadata": {},
   "outputs": [
    {
     "data": {
      "text/plain": [
       "' '"
      ]
     },
     "execution_count": 88,
     "metadata": {},
     "output_type": "execute_result"
    }
   ],
   "source": [
    "\" \"    #empty string"
   ]
  },
  {
   "cell_type": "code",
   "execution_count": 90,
   "id": "f3de4e1d-8c11-41df-beba-2aae6e44f69f",
   "metadata": {},
   "outputs": [
    {
     "data": {
      "text/plain": [
       "' spaces '"
      ]
     },
     "execution_count": 90,
     "metadata": {},
     "output_type": "execute_result"
    }
   ],
   "source": [
    "\" spaces \""
   ]
  },
  {
   "cell_type": "markdown",
   "id": "ff586431-f313-48ac-ad77-780ca0ce7817",
   "metadata": {},
   "source": [
    "# list"
   ]
  },
  {
   "cell_type": "code",
   "execution_count": 93,
   "id": "987694de-4125-4f8e-acca-127fe488ebe1",
   "metadata": {},
   "outputs": [
    {
     "data": {
      "text/plain": [
       "[1, 2, 3]"
      ]
     },
     "execution_count": 93,
     "metadata": {},
     "output_type": "execute_result"
    }
   ],
   "source": [
    "[1,2,3]"
   ]
  },
  {
   "cell_type": "code",
   "execution_count": 97,
   "id": "95e35330-b3e3-497a-87fd-c7adfb7b4bb6",
   "metadata": {},
   "outputs": [
    {
     "data": {
      "text/plain": [
       "[[]]"
      ]
     },
     "execution_count": 97,
     "metadata": {},
     "output_type": "execute_result"
    }
   ],
   "source": [
    "[[]]   #list having empty list"
   ]
  },
  {
   "cell_type": "code",
   "execution_count": 99,
   "id": "d55ff5e0-2d87-49e9-9aa6-5e1a41450bbe",
   "metadata": {},
   "outputs": [
    {
     "data": {
      "text/plain": [
       "[1, 'two', 3.0]"
      ]
     },
     "execution_count": 99,
     "metadata": {},
     "output_type": "execute_result"
    }
   ],
   "source": [
    "[1, 'two', 3.0]"
   ]
  },
  {
   "cell_type": "code",
   "execution_count": 101,
   "id": "ab767c53-38ef-4315-b931-178c104fade7",
   "metadata": {},
   "outputs": [
    {
     "data": {
      "text/plain": [
       "[2, 'arc', [3]]"
      ]
     },
     "execution_count": 101,
     "metadata": {},
     "output_type": "execute_result"
    }
   ],
   "source": [
    "[2,'arc',[3]]"
   ]
  },
  {
   "cell_type": "code",
   "execution_count": 122,
   "id": "5b54d1f2-4873-48ac-8bc0-d4d156233ee3",
   "metadata": {},
   "outputs": [
    {
     "data": {
      "text/plain": [
       "[0, 1, 2, 3, 4, 5]"
      ]
     },
     "execution_count": 122,
     "metadata": {},
     "output_type": "execute_result"
    }
   ],
   "source": [
    "list(range(6))"
   ]
  },
  {
   "cell_type": "code",
   "execution_count": 107,
   "id": "577f9e3b-4777-4d9d-9a62-ae6b986ee253",
   "metadata": {},
   "outputs": [
    {
     "data": {
      "text/plain": [
       "['h', 'e', 'l', 'l', 'o']"
      ]
     },
     "execution_count": 107,
     "metadata": {},
     "output_type": "execute_result"
    }
   ],
   "source": [
    "list('hello')"
   ]
  },
  {
   "cell_type": "code",
   "execution_count": 109,
   "id": "a081b84b-fdfa-4406-8c19-a38e24102203",
   "metadata": {},
   "outputs": [
    {
     "data": {
      "text/plain": [
       "[[1, 2], [3, 4]]"
      ]
     },
     "execution_count": 109,
     "metadata": {},
     "output_type": "execute_result"
    }
   ],
   "source": [
    "[[1, 2], [3, 4]]"
   ]
  },
  {
   "cell_type": "code",
   "execution_count": 111,
   "id": "aa15ce9c-880f-4e1d-a3df-562d6a555ae3",
   "metadata": {},
   "outputs": [
    {
     "data": {
      "text/plain": [
       "[1, 2, 3]"
      ]
     },
     "execution_count": 111,
     "metadata": {},
     "output_type": "execute_result"
    }
   ],
   "source": [
    "list([1, 2, 3])"
   ]
  },
  {
   "cell_type": "markdown",
   "id": "49a772c1-c6d7-4b05-a9d5-1d59c9d31d75",
   "metadata": {},
   "source": [
    "# Boolean"
   ]
  },
  {
   "cell_type": "code",
   "execution_count": 174,
   "id": "93f82b2f-b09f-47a8-b9cf-34010f3a11e9",
   "metadata": {},
   "outputs": [
    {
     "data": {
      "text/plain": [
       "'True'"
      ]
     },
     "execution_count": 174,
     "metadata": {},
     "output_type": "execute_result"
    }
   ],
   "source": [
    "'True' "
   ]
  },
  {
   "cell_type": "code",
   "execution_count": 176,
   "id": "47e713d8-0e48-488e-9e84-3215ef5ab3e3",
   "metadata": {},
   "outputs": [
    {
     "data": {
      "text/plain": [
       "'False'"
      ]
     },
     "execution_count": 176,
     "metadata": {},
     "output_type": "execute_result"
    }
   ],
   "source": [
    "'False' "
   ]
  },
  {
   "cell_type": "code",
   "execution_count": 178,
   "id": "bcce1600-2d4b-48bf-9aab-fc9b98f6e422",
   "metadata": {},
   "outputs": [
    {
     "data": {
      "text/plain": [
       "True"
      ]
     },
     "execution_count": 178,
     "metadata": {},
     "output_type": "execute_result"
    }
   ],
   "source": [
    "bool(1)"
   ]
  },
  {
   "cell_type": "code",
   "execution_count": 180,
   "id": "c5319e7f-f4ae-4109-aa3b-70dc6ef8e7d8",
   "metadata": {},
   "outputs": [
    {
     "data": {
      "text/plain": [
       "False"
      ]
     },
     "execution_count": 180,
     "metadata": {},
     "output_type": "execute_result"
    }
   ],
   "source": [
    "bool(0)"
   ]
  },
  {
   "cell_type": "code",
   "execution_count": 186,
   "id": "b9f6c701-cf35-46a3-981f-e7f2f02bc192",
   "metadata": {},
   "outputs": [
    {
     "data": {
      "text/plain": [
       "True"
      ]
     },
     "execution_count": 186,
     "metadata": {},
     "output_type": "execute_result"
    }
   ],
   "source": [
    "bool([1])  #non empty list is true"
   ]
  },
  {
   "cell_type": "code",
   "execution_count": 188,
   "id": "9a630b05-2e0e-424d-a11f-4f66447b7e39",
   "metadata": {},
   "outputs": [
    {
     "data": {
      "text/plain": [
       "True"
      ]
     },
     "execution_count": 188,
     "metadata": {},
     "output_type": "execute_result"
    }
   ],
   "source": [
    "bool(' ')  # empty string is false"
   ]
  },
  {
   "cell_type": "markdown",
   "id": "7a49a1a3-30aa-4142-9fb7-2227e015feac",
   "metadata": {},
   "source": [
    "# Range"
   ]
  },
  {
   "cell_type": "code",
   "execution_count": 192,
   "id": "5244de14-8f32-4e18-b580-a88913d0723e",
   "metadata": {},
   "outputs": [
    {
     "data": {
      "text/plain": [
       "range(0, 8)"
      ]
     },
     "execution_count": 192,
     "metadata": {},
     "output_type": "execute_result"
    }
   ],
   "source": [
    "range(8)"
   ]
  },
  {
   "cell_type": "code",
   "execution_count": 194,
   "id": "9e76220d-a313-49ac-86c7-a0f8a8b63064",
   "metadata": {},
   "outputs": [
    {
     "data": {
      "text/plain": [
       "range(2, 4)"
      ]
     },
     "execution_count": 194,
     "metadata": {},
     "output_type": "execute_result"
    }
   ],
   "source": [
    "range(2,4)"
   ]
  },
  {
   "cell_type": "code",
   "execution_count": 208,
   "id": "9a0235d9-1853-40bd-bc2a-bd359d986f3c",
   "metadata": {},
   "outputs": [
    {
     "data": {
      "text/plain": [
       "[0, 1, 2, 3, 4]"
      ]
     },
     "execution_count": 208,
     "metadata": {},
     "output_type": "execute_result"
    }
   ],
   "source": [
    "list(range(5))"
   ]
  },
  {
   "cell_type": "code",
   "execution_count": 206,
   "id": "a646cf5f-edfe-46a9-95de-d86907bb8bcf",
   "metadata": {},
   "outputs": [
    {
     "data": {
      "text/plain": [
       "(0, 1, 2)"
      ]
     },
     "execution_count": 206,
     "metadata": {},
     "output_type": "execute_result"
    }
   ],
   "source": [
    "tuple(range(3))"
   ]
  },
  {
   "cell_type": "markdown",
   "id": "cd5a187a-655f-44af-8412-3332f6e9ddde",
   "metadata": {},
   "source": [
    "# TUPLE"
   ]
  },
  {
   "cell_type": "code",
   "execution_count": 124,
   "id": "1b0dba95-d8ac-4f22-aeea-5aad3d5634fe",
   "metadata": {},
   "outputs": [
    {
     "data": {
      "text/plain": [
       "(1, 2, 3, 4, 5)"
      ]
     },
     "execution_count": 124,
     "metadata": {},
     "output_type": "execute_result"
    }
   ],
   "source": [
    "(1,2,3,4,5)"
   ]
  },
  {
   "cell_type": "code",
   "execution_count": 146,
   "id": "1238119d-f4be-4c87-a692-0748420f2be4",
   "metadata": {},
   "outputs": [
    {
     "data": {
      "text/plain": [
       "(0, 1, 2, 3, 4, 5, 6)"
      ]
     },
     "execution_count": 146,
     "metadata": {},
     "output_type": "execute_result"
    }
   ],
   "source": [
    "tuple(range(7))  # Tuple from a range"
   ]
  },
  {
   "cell_type": "code",
   "execution_count": 156,
   "id": "f35ad96f-f4d5-427d-986f-82e5528d188a",
   "metadata": {},
   "outputs": [
    {
     "data": {
      "text/plain": [
       "(True, False)"
      ]
     },
     "execution_count": 156,
     "metadata": {},
     "output_type": "execute_result"
    }
   ],
   "source": [
    "(True,False)   #tuple from a boolean"
   ]
  },
  {
   "cell_type": "code",
   "execution_count": 148,
   "id": "488ebe68-2e45-4431-b2be-4ec72477e9bb",
   "metadata": {},
   "outputs": [
    {
     "data": {
      "text/plain": [
       "<generator object <genexpr> at 0x00000289E3394D40>"
      ]
     },
     "execution_count": 148,
     "metadata": {},
     "output_type": "execute_result"
    }
   ],
   "source": [
    "(x**2 for x in range(5))  # Generator expression"
   ]
  },
  {
   "cell_type": "code",
   "execution_count": 150,
   "id": "44470f52-6220-42ad-9f31-e672e9bec5e6",
   "metadata": {},
   "outputs": [
    {
     "data": {
      "text/plain": [
       "<generator object <genexpr> at 0x00000289E32F2740>"
      ]
     },
     "execution_count": 150,
     "metadata": {},
     "output_type": "execute_result"
    }
   ],
   "source": [
    "(x for x in('abc'))      # Generator expression"
   ]
  },
  {
   "cell_type": "code",
   "execution_count": 152,
   "id": "874e4a7e-ed1c-49f4-8428-8321a55a1454",
   "metadata": {},
   "outputs": [
    {
     "data": {
      "text/plain": [
       "('h', 'e', 'l', 'l', 'o')"
      ]
     },
     "execution_count": 152,
     "metadata": {},
     "output_type": "execute_result"
    }
   ],
   "source": [
    "tuple('hello')    # Tuple from a string"
   ]
  },
  {
   "cell_type": "code",
   "execution_count": 158,
   "id": "20c3ac98-6fea-484b-9cff-6dfbe9f7ee5d",
   "metadata": {},
   "outputs": [
    {
     "data": {
      "text/plain": [
       "'agcd'"
      ]
     },
     "execution_count": 158,
     "metadata": {},
     "output_type": "execute_result"
    }
   ],
   "source": [
    "('a'+'g')+('c'+'d')  # Concatenated tuple"
   ]
  },
  {
   "cell_type": "code",
   "execution_count": 160,
   "id": "61a8ab82-ab55-445e-b420-592462fd9e37",
   "metadata": {},
   "outputs": [
    {
     "data": {
      "text/plain": [
       "(2, 3)"
      ]
     },
     "execution_count": 160,
     "metadata": {},
     "output_type": "execute_result"
    }
   ],
   "source": [
    "(1,2,3,4,5)[1:3]  # Tuple slicing"
   ]
  },
  {
   "cell_type": "code",
   "execution_count": 162,
   "id": "6c802168-3f50-48bb-a462-b5ffb23762ea",
   "metadata": {},
   "outputs": [
    {
     "data": {
      "text/plain": [
       "(2, 'hi', 3.6)"
      ]
     },
     "execution_count": 162,
     "metadata": {},
     "output_type": "execute_result"
    }
   ],
   "source": [
    "( 2,'hi',3.6)   #mixed tuple"
   ]
  },
  {
   "cell_type": "code",
   "execution_count": 164,
   "id": "95248c56-4b9f-4919-bbce-8f26057183fd",
   "metadata": {},
   "outputs": [
    {
     "data": {
      "text/plain": [
       "(1, 2, 3, 4, 5)"
      ]
     },
     "execution_count": 164,
     "metadata": {},
     "output_type": "execute_result"
    }
   ],
   "source": [
    "tuple((1,2,3,4,5)) #tuple conversion from another tuple"
   ]
  },
  {
   "cell_type": "code",
   "execution_count": 168,
   "id": "d1bd996d-e1fb-479e-97a3-49c57e2fc7d7",
   "metadata": {},
   "outputs": [
    {
     "data": {
      "text/plain": [
       "(2,)"
      ]
     },
     "execution_count": 168,
     "metadata": {},
     "output_type": "execute_result"
    }
   ],
   "source": [
    "(2,)   # single element tuple"
   ]
  },
  {
   "cell_type": "code",
   "execution_count": null,
   "id": "7bd1cc02-2562-49dd-9592-71db994fe956",
   "metadata": {},
   "outputs": [],
   "source": []
  }
 ],
 "metadata": {
  "kernelspec": {
   "display_name": "Python 3 (ipykernel)",
   "language": "python",
   "name": "python3"
  },
  "language_info": {
   "codemirror_mode": {
    "name": "ipython",
    "version": 3
   },
   "file_extension": ".py",
   "mimetype": "text/x-python",
   "name": "python",
   "nbconvert_exporter": "python",
   "pygments_lexer": "ipython3",
   "version": "3.12.4"
  }
 },
 "nbformat": 4,
 "nbformat_minor": 5
}
